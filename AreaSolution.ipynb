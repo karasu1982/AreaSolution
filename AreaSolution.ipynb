{
  "nbformat": 4,
  "nbformat_minor": 0,
  "metadata": {
    "colab": {
      "provenance": [],
      "collapsed_sections": [
        "2jv_tByldGXq",
        "7cQNfKn9DEAY",
        "TA9h8Nw4FWPo",
        "5iWqSu3qqc0V",
        "kBSKJFJSQFzp",
        "af6kdZzKew8h",
        "NSQG8ABxfbaw"
      ],
      "toc_visible": true,
      "include_colab_link": true
    },
    "kernelspec": {
      "name": "python3",
      "display_name": "Python 3"
    }
  },
  "cells": [
    {
      "cell_type": "markdown",
      "metadata": {
        "id": "view-in-github",
        "colab_type": "text"
      },
      "source": [
        "<a href=\"https://colab.research.google.com/github/karasu1982/AreaSolution/blob/main/AreaSolution.ipynb\" target=\"_parent\"><img src=\"https://colab.research.google.com/assets/colab-badge.svg\" alt=\"Open In Colab\"/></a>"
      ]
    },
    {
      "cell_type": "markdown",
      "source": [
        "# 環境設定"
      ],
      "metadata": {
        "id": "dAQQzM_IxDFY"
      }
    },
    {
      "cell_type": "code",
      "source": [
        "!pip install mojimoji"
      ],
      "metadata": {
        "colab": {
          "base_uri": "https://localhost:8080/"
        },
        "id": "QhVpJKxmyRBw",
        "outputId": "4737ea55-bde5-442b-ff66-c9753ed48d1b"
      },
      "execution_count": 10,
      "outputs": [
        {
          "output_type": "stream",
          "name": "stdout",
          "text": [
            "Looking in indexes: https://pypi.org/simple, https://us-python.pkg.dev/colab-wheels/public/simple/\n",
            "Collecting mojimoji\n",
            "  Downloading mojimoji-0.0.12-cp37-cp37m-manylinux_2_17_x86_64.manylinux2014_x86_64.whl (125 kB)\n",
            "\u001b[K     |████████████████████████████████| 125 kB 7.5 MB/s \n",
            "\u001b[?25hInstalling collected packages: mojimoji\n",
            "Successfully installed mojimoji-0.0.12\n"
          ]
        }
      ]
    },
    {
      "cell_type": "code",
      "source": [
        "import requests\n",
        "import httplib2\n",
        "import mojimoji"
      ],
      "metadata": {
        "id": "5oV88RBwxZSl"
      },
      "execution_count": 22,
      "outputs": []
    },
    {
      "cell_type": "code",
      "source": [
        "#数字漢数字の置き換えテーブル\n",
        "table = str.maketrans({\n",
        "    '１': '一',\n",
        "    '２': '二',\n",
        "    '３': '三',\n",
        "    '４': '四',\n",
        "    '５': '五',\n",
        "    '６': '六',\n",
        "    '７': '七',\n",
        "    '８': '八',\n",
        "    '９': '九',\n",
        "#    '１０': '十'\n",
        "})"
      ],
      "metadata": {
        "id": "P8YkFjQxyksX"
      },
      "execution_count": 15,
      "outputs": []
    },
    {
      "cell_type": "markdown",
      "source": [
        "# 関数定義"
      ],
      "metadata": {
        "id": "5-ZUTVofxJpR"
      }
    },
    {
      "cell_type": "code",
      "source": [
        "#@title 郵便番号→住所１（HeartRails Geo API）\n",
        "def postcode_to_address1(post_code):\n",
        "  url = 'http://geoapi.heartrails.com/api/json'\n",
        "  payload = {'method':'searchByPostal'}\n",
        "  payload['postal']= post_code\n",
        "\n",
        "  try:\n",
        "    res = requests.get(url, params=payload).json()['response']['location'][0]\n",
        "    return res\n",
        "  \n",
        "  except:  \n",
        "    print(post_code)  \n",
        "    return \"None\""
      ],
      "metadata": {
        "id": "S-Mqj9J-xZ1d"
      },
      "execution_count": 5,
      "outputs": []
    },
    {
      "cell_type": "code",
      "source": [
        "#@title 住所→郵便番号（HeartRails Geo API）\n",
        "\n",
        "def address_to_postcode(address):\n",
        "  address = mojimoji.han_to_zen(address).translate(table).replace('\\u3000','')\n",
        "\n",
        "  url = 'http://geoapi.heartrails.com/api/json'\n",
        "  payload = {'method':'suggest'}\n",
        "  payload['keyword']= address\n",
        "  payload['matching']= \"like\" #prefix ⇒ 前方一致, like ⇒ 部分一致, suffix ⇒ 後方一致\n",
        "\n",
        "  try:\n",
        "    res = requests.get(url, params=payload).json()['response']['location'][0]\n",
        "    return res[\"postal\"]\n",
        "  \n",
        "  except:\n",
        "    print(address)\n",
        "    return \"None\""
      ],
      "metadata": {
        "id": "qbFDKnZnyLhR"
      },
      "execution_count": 12,
      "outputs": []
    },
    {
      "cell_type": "code",
      "source": [
        "#@title 郵便番号→住所２（Zip Cloud API）\n",
        "def postcode_to_address2(post_code):\n",
        "  url = \"http://zipcloud.ibsnet.co.jp/api/search?zipcode={post_code}\"\n",
        "\n",
        "  try:  \n",
        "    res = requests.get(url.format(post_code=post_code.replace(\"-\",\"\")))\n",
        "    return res.text\n",
        "  \n",
        "  except:  \n",
        "    print(post_code)  \n",
        "    return \"None\""
      ],
      "metadata": {
        "id": "02q1xvIaxgUQ"
      },
      "execution_count": 8,
      "outputs": []
    },
    {
      "cell_type": "code",
      "source": [
        "#@title 緯度経度（日本測地系⇔世界測地系）\n",
        "def convertSokuti(lat,lng, sokuti=2):\n",
        "    \"\"\"緯度・経度を日本測地系・世界測地系の変換を行います。初期値では世界測地系⇒日本測地系\n",
        "    sokuti=1：日本測地系⇒世界測地系\n",
        "    sokuti=2：世界測地系⇒日本測地系\n",
        "    \"\"\"\n",
        "    \n",
        "    uri_prefix = r\"http://vldb.gsi.go.jp/sokuchi/surveycalc/tky2jgd/tky2jgd.pl?\"\n",
        "    params = dict(\n",
        "        outputType=\"json\",\n",
        "        sokuti=sokuti,\n",
        "        Place=1,\n",
        "        latitude=lat,\n",
        "        longitude=lng\n",
        "    )\n",
        "    params = httplib2.urllib.parse.urlencode(params)\n",
        "    uri = uri_prefix + params\n",
        "    \n",
        "    try:\n",
        "      res = requests.get(uri)\n",
        "      return float(res.json()['OutputData'][\"latitude\"]), float(res.json()['OutputData'][\"longitude\"])\n",
        "\n",
        "    except:\n",
        "      print([lat, lng])\n",
        "      return \"None\""
      ],
      "metadata": {
        "id": "Nx9FBcsaywBg"
      },
      "execution_count": 19,
      "outputs": []
    },
    {
      "cell_type": "code",
      "source": [
        "#@title 名称→緯度経度(Google Map APIのキーが必要)\n",
        "def place_to_latlng(name):\n",
        "  url = 'https://maps.googleapis.com/maps/api/place/textsearch/json'\n",
        "  q = {'query': name,\n",
        "      'language': 'ja',\n",
        "      'key': 'Keyは確認'}\n",
        "\n",
        "  s = requests.Session()\n",
        "  s.headers.update({'Referer': 'www.monotalk.xyz/example'})\n",
        "  r = s.get(url, params=q)\n",
        "  json_o = r.json()\n",
        "\n",
        "  latlng=json_o[\"results\"][0]['geometry']['location']\n",
        "\n",
        "  return latlng"
      ],
      "metadata": {
        "id": "v_J9tJ_TyFJY"
      },
      "execution_count": null,
      "outputs": []
    },
    {
      "cell_type": "markdown",
      "source": [
        "# 処理実行"
      ],
      "metadata": {
        "id": "N2-30oADxTKx"
      }
    },
    {
      "cell_type": "code",
      "source": [
        "post_code = \"110-0001\"\n",
        "address = \"東京都港区芝公園\"\n",
        "\n",
        "lat=44.0388323\n",
        "lng=144.2516772"
      ],
      "metadata": {
        "id": "NcPZ1Xz6xrn4"
      },
      "execution_count": 24,
      "outputs": []
    },
    {
      "cell_type": "code",
      "source": [
        "# 郵便番号から住所・緯度経度\n",
        "postcode_to_address1(post_code)"
      ],
      "metadata": {
        "colab": {
          "base_uri": "https://localhost:8080/"
        },
        "id": "_Axz6AHtxaC7",
        "outputId": "ceb01e6e-d14e-4abb-93a7-5f90b149d78a"
      },
      "execution_count": 6,
      "outputs": [
        {
          "output_type": "execute_result",
          "data": {
            "text/plain": [
              "{'city': '台東区',\n",
              " 'city_kana': 'たいとうく',\n",
              " 'town': '谷中',\n",
              " 'town_kana': 'やなか',\n",
              " 'x': '139.767698',\n",
              " 'y': '35.723514',\n",
              " 'prefecture': '東京都',\n",
              " 'postal': '1100001'}"
            ]
          },
          "metadata": {},
          "execution_count": 6
        }
      ]
    },
    {
      "cell_type": "code",
      "source": [
        "# 郵便番号から住所・緯度経度\n",
        "postcode_to_address2(post_code)"
      ],
      "metadata": {
        "colab": {
          "base_uri": "https://localhost:8080/",
          "height": 72
        },
        "id": "SEE5h7eqx8yS",
        "outputId": "799fa412-dbf0-43ea-c843-50d441204fcd"
      },
      "execution_count": 9,
      "outputs": [
        {
          "output_type": "execute_result",
          "data": {
            "text/plain": [
              "'{\\n\\t\"message\": null,\\n\\t\"results\": [\\n\\t\\t{\\n\\t\\t\\t\"address1\": \"東京都\",\\n\\t\\t\\t\"address2\": \"台東区\",\\n\\t\\t\\t\"address3\": \"谷中\",\\n\\t\\t\\t\"kana1\": \"ﾄｳｷｮｳﾄ\",\\n\\t\\t\\t\"kana2\": \"ﾀｲﾄｳｸ\",\\n\\t\\t\\t\"kana3\": \"ﾔﾅｶ\",\\n\\t\\t\\t\"prefcode\": \"13\",\\n\\t\\t\\t\"zipcode\": \"1100001\"\\n\\t\\t}\\n\\t],\\n\\t\"status\": 200\\n}'"
            ],
            "application/vnd.google.colaboratory.intrinsic+json": {
              "type": "string"
            }
          },
          "metadata": {},
          "execution_count": 9
        }
      ]
    },
    {
      "cell_type": "code",
      "source": [
        "# 住所から郵便番号\n",
        "address_to_postcode(address)"
      ],
      "metadata": {
        "colab": {
          "base_uri": "https://localhost:8080/",
          "height": 35
        },
        "id": "yoPgZD9LyCgz",
        "outputId": "fec68f79-6fab-4010-8306-065087038b19"
      },
      "execution_count": 25,
      "outputs": [
        {
          "output_type": "execute_result",
          "data": {
            "text/plain": [
              "'1050011'"
            ],
            "application/vnd.google.colaboratory.intrinsic+json": {
              "type": "string"
            }
          },
          "metadata": {},
          "execution_count": 25
        }
      ]
    },
    {
      "cell_type": "code",
      "source": [
        "# 緯度経度変換\n",
        "convertSokuti(lat,lng)"
      ],
      "metadata": {
        "colab": {
          "base_uri": "https://localhost:8080/"
        },
        "id": "Wpiv3IJlyxp0",
        "outputId": "bbfecea3-baa3-4a57-ecbe-26a4c7ac3da7"
      },
      "execution_count": 23,
      "outputs": [
        {
          "output_type": "execute_result",
          "data": {
            "text/plain": [
              "(44.036403192, 144.255658861)"
            ]
          },
          "metadata": {},
          "execution_count": 23
        }
      ]
    }
  ]
}